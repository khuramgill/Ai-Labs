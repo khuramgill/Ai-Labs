{
  "nbformat": 4,
  "nbformat_minor": 0,
  "metadata": {
    "colab": {
      "provenance": [],
      "authorship_tag": "ABX9TyPOU0hLXLIKrZq9YT8e//vH",
      "include_colab_link": true
    },
    "kernelspec": {
      "name": "python3",
      "display_name": "Python 3"
    },
    "language_info": {
      "name": "python"
    }
  },
  "cells": [
    {
      "cell_type": "markdown",
      "metadata": {
        "id": "view-in-github",
        "colab_type": "text"
      },
      "source": [
        "<a href=\"https://colab.research.google.com/github/khuramgill/Ai-Labs/blob/main/Lab7.ipynb\" target=\"_parent\"><img src=\"https://colab.research.google.com/assets/colab-badge.svg\" alt=\"Open In Colab\"/></a>"
      ]
    },
    {
      "cell_type": "markdown",
      "source": [
        "# **Task 1  Data Preprocessing**"
      ],
      "metadata": {
        "id": "hPqdtpkbmpDY"
      }
    },
    {
      "cell_type": "markdown",
      "source": [
        "**Question 1: Load and Explore the Datasets**"
      ],
      "metadata": {
        "id": "4zOAMye5mtv4"
      }
    },
    {
      "cell_type": "code",
      "source": [
        "import pandas as pd\n",
        "from sklearn.datasets import load_iris, fetch_california_housing"
      ],
      "metadata": {
        "id": "nrhEtdald2L1"
      },
      "execution_count": 11,
      "outputs": []
    },
    {
      "cell_type": "code",
      "source": [
        "load_iris = load_iris()"
      ],
      "metadata": {
        "id": "79vwmlIMe5gV"
      },
      "execution_count": 13,
      "outputs": []
    },
    {
      "cell_type": "code",
      "source": [
        "\n",
        "iris_df = pd.DataFrame(data=load_iris.data, columns=load_iris.feature_names)\n"
      ],
      "metadata": {
        "colab": {
          "base_uri": "https://localhost:8080/",
          "height": 147
        },
        "id": "21HHzi7Pd7LN",
        "outputId": "5dc68352-f7f2-4c66-d085-01ea4b99d04a"
      },
      "execution_count": 12,
      "outputs": [
        {
          "output_type": "error",
          "ename": "AttributeError",
          "evalue": "'function' object has no attribute 'data'",
          "traceback": [
            "\u001b[0;31m---------------------------------------------------------------------------\u001b[0m",
            "\u001b[0;31mAttributeError\u001b[0m                            Traceback (most recent call last)",
            "\u001b[0;32m<ipython-input-12-5f639d998cde>\u001b[0m in \u001b[0;36m<cell line: 1>\u001b[0;34m()\u001b[0m\n\u001b[0;32m----> 1\u001b[0;31m \u001b[0miris_df\u001b[0m \u001b[0;34m=\u001b[0m \u001b[0mpd\u001b[0m\u001b[0;34m.\u001b[0m\u001b[0mDataFrame\u001b[0m\u001b[0;34m(\u001b[0m\u001b[0mdata\u001b[0m\u001b[0;34m=\u001b[0m\u001b[0mload_iris\u001b[0m\u001b[0;34m.\u001b[0m\u001b[0mdata\u001b[0m\u001b[0;34m,\u001b[0m \u001b[0mcolumns\u001b[0m\u001b[0;34m=\u001b[0m\u001b[0mload_iris\u001b[0m\u001b[0;34m.\u001b[0m\u001b[0mfeature_names\u001b[0m\u001b[0;34m)\u001b[0m\u001b[0;34m\u001b[0m\u001b[0;34m\u001b[0m\u001b[0m\n\u001b[0m",
            "\u001b[0;31mAttributeError\u001b[0m: 'function' object has no attribute 'data'"
          ]
        }
      ]
    },
    {
      "cell_type": "code",
      "source": [
        "import pandas as pd\n",
        "from sklearn.datasets import load_iris, fetch_california_housing\n",
        "\n",
        "iris = load_iris()\n",
        "\n",
        "iris_df = pd.DataFrame(data=iris.data, columns=iris.feature_names)\n",
        "iris_df['target'] = iris.target\n",
        "\n",
        "print(\"Iris Dataset:\")\n",
        "print(iris_df.head())\n",
        "print(\"Missing values in Iris Dataset:\\n\", iris_df.isnull().sum())\n",
        "\n",
        "iris_features = iris_df.drop('target', axis=1)\n",
        "iris_target = iris_df['target']\n"
      ],
      "metadata": {
        "colab": {
          "base_uri": "https://localhost:8080/"
        },
        "id": "FqomMhfddkct",
        "outputId": "cf71666b-5c88-4e79-f65c-ac56baf08197"
      },
      "execution_count": 17,
      "outputs": [
        {
          "output_type": "stream",
          "name": "stdout",
          "text": [
            "Iris Dataset:\n",
            "   sepal length (cm)  sepal width (cm)  petal length (cm)  petal width (cm)  \\\n",
            "0                5.1               3.5                1.4               0.2   \n",
            "1                4.9               3.0                1.4               0.2   \n",
            "2                4.7               3.2                1.3               0.2   \n",
            "3                4.6               3.1                1.5               0.2   \n",
            "4                5.0               3.6                1.4               0.2   \n",
            "\n",
            "   target  \n",
            "0       0  \n",
            "1       0  \n",
            "2       0  \n",
            "3       0  \n",
            "4       0  \n",
            "Missing values in Iris Dataset:\n",
            " sepal length (cm)    0\n",
            "sepal width (cm)     0\n",
            "petal length (cm)    0\n",
            "petal width (cm)     0\n",
            "target               0\n",
            "dtype: int64\n"
          ]
        }
      ]
    },
    {
      "cell_type": "code",
      "source": [
        "california_housing = fetch_california_housing()\n",
        "\n",
        "california_housing_df = pd.DataFrame(data=california_housing.data, columns=california_housing.feature_names)\n",
        "california_housing_df['target'] = california_housing.target\n",
        "\n",
        "print(\"\\nCalifornia Housing Dataset:\")\n",
        "print(california_housing_df.head())\n",
        "print(\"Missing values in California Housing Dataset:\\n\", california_housing_df.isnull().sum())\n",
        "\n",
        "california_housing_features = california_housing_df.drop('target', axis=1)\n",
        "california_housing_target = california_housing_df['target']\n"
      ],
      "metadata": {
        "colab": {
          "base_uri": "https://localhost:8080/"
        },
        "id": "bodfocykfgU-",
        "outputId": "9d0bf713-f2d8-44ec-9cae-47305284e859"
      },
      "execution_count": 16,
      "outputs": [
        {
          "output_type": "stream",
          "name": "stdout",
          "text": [
            "\n",
            "California Housing Dataset:\n",
            "   MedInc  HouseAge  AveRooms  AveBedrms  Population  AveOccup  Latitude  \\\n",
            "0  8.3252      41.0  6.984127   1.023810       322.0  2.555556     37.88   \n",
            "1  8.3014      21.0  6.238137   0.971880      2401.0  2.109842     37.86   \n",
            "2  7.2574      52.0  8.288136   1.073446       496.0  2.802260     37.85   \n",
            "3  5.6431      52.0  5.817352   1.073059       558.0  2.547945     37.85   \n",
            "4  3.8462      52.0  6.281853   1.081081       565.0  2.181467     37.85   \n",
            "\n",
            "   Longitude  target  \n",
            "0    -122.23   4.526  \n",
            "1    -122.22   3.585  \n",
            "2    -122.24   3.521  \n",
            "3    -122.25   3.413  \n",
            "4    -122.25   3.422  \n",
            "Missing values in California Housing Dataset:\n",
            " MedInc        0\n",
            "HouseAge      0\n",
            "AveRooms      0\n",
            "AveBedrms     0\n",
            "Population    0\n",
            "AveOccup      0\n",
            "Latitude      0\n",
            "Longitude     0\n",
            "target        0\n",
            "dtype: int64\n"
          ]
        }
      ]
    },
    {
      "cell_type": "markdown",
      "source": [
        "**Question 2: Feature Scaling and Splitting Data**"
      ],
      "metadata": {
        "id": "5h4x7Ysim3t_"
      }
    },
    {
      "cell_type": "code",
      "source": [
        "from sklearn.model_selection import train_test_split\n",
        "from sklearn.preprocessing import StandardScaler"
      ],
      "metadata": {
        "id": "nKuTxAWXf2w2"
      },
      "execution_count": 18,
      "outputs": []
    },
    {
      "cell_type": "code",
      "source": [
        "iris_features = iris_df.drop('target', axis=1)\n",
        "iris_target = iris_df['target']\n",
        "scaler_iris = StandardScaler()\n",
        "iris_features_scaled = scaler_iris.fit_transform(iris_features)"
      ],
      "metadata": {
        "id": "k3lbSHKBgoCs"
      },
      "execution_count": 21,
      "outputs": []
    },
    {
      "cell_type": "code",
      "source": [
        "X_train_iris, X_test_iris, y_train_iris, y_test_iris = train_test_split(\n",
        "    iris_features_scaled, iris_target, test_size=0.2, random_state=42\n",
        ")"
      ],
      "metadata": {
        "id": "3K4j4GwVgvzl"
      },
      "execution_count": 22,
      "outputs": []
    },
    {
      "cell_type": "code",
      "source": [
        "print(f\"X_train_iris shape: {X_train_iris.shape}, y_train_iris shape: {y_train_iris.shape}\")\n",
        "print(f\"X_test_iris shape: {X_test_iris.shape}, y_test_iris shape: {y_test_iris.shape}\")"
      ],
      "metadata": {
        "colab": {
          "base_uri": "https://localhost:8080/"
        },
        "id": "rmrtyTxdg5km",
        "outputId": "49cfaf41-533b-46b0-c174-8069e7254035"
      },
      "execution_count": 23,
      "outputs": [
        {
          "output_type": "stream",
          "name": "stdout",
          "text": [
            "X_train_iris shape: (120, 4), y_train_iris shape: (120,)\n",
            "X_test_iris shape: (30, 4), y_test_iris shape: (30,)\n"
          ]
        }
      ]
    },
    {
      "cell_type": "code",
      "source": [
        "ch_features = california_housing_df.drop('target', axis=1)\n",
        "ch_target = california_housing_df['target']"
      ],
      "metadata": {
        "id": "pIHk1NBHhF8u"
      },
      "execution_count": 24,
      "outputs": []
    },
    {
      "cell_type": "code",
      "source": [
        "ch_scaler = StandardScaler()\n",
        "ch_features_scaled = ch_scaler.fit_transform(ch_features)"
      ],
      "metadata": {
        "id": "xELF5atXieku"
      },
      "execution_count": 26,
      "outputs": []
    },
    {
      "cell_type": "code",
      "source": [
        "X_train_ch, X_test_ch, y_train_ch, y_test_ch = train_test_split(\n",
        "    ch_features_scaled, ch_target, test_size=0.2, random_state=42\n",
        ")"
      ],
      "metadata": {
        "id": "_4Xbn7WPhyBn"
      },
      "execution_count": 29,
      "outputs": []
    },
    {
      "cell_type": "code",
      "source": [
        "print(f\"X_train_ch shape:{X_train_ch.shape}, y_train_ch shape: {y_train_ch.shape}\")\n",
        "print(f\"X_test_ch shape: {X_test_ch.shape}, y_test_ch shape: {y_test_ch.shape}\")"
      ],
      "metadata": {
        "colab": {
          "base_uri": "https://localhost:8080/"
        },
        "id": "1uj6ICQHizpW",
        "outputId": "10fa4349-f9f8-4611-9f3c-fb4456d6802b"
      },
      "execution_count": 31,
      "outputs": [
        {
          "output_type": "stream",
          "name": "stdout",
          "text": [
            "X_train_ch shape:(16512, 8), y_train_ch shape: (16512,)\n",
            "X_test_ch shape: (4128, 8), y_test_ch shape: (4128,)\n"
          ]
        }
      ]
    },
    {
      "cell_type": "markdown",
      "source": [
        "# **Task 2: Classification Algorithms**"
      ],
      "metadata": {
        "id": "yRIL3L_rnVOP"
      }
    },
    {
      "cell_type": "markdown",
      "source": [
        "**Question 3: Apply k-Nearest Neighbors (k-NN) for Classification**"
      ],
      "metadata": {
        "id": "oj5L03RIncS3"
      }
    },
    {
      "cell_type": "code",
      "source": [
        "import numpy as np\n",
        "from sklearn.neighbors import KNeighborsClassifier\n",
        "from sklearn.metrics import accuracy_score\n",
        "import matplotlib.pyplot as plt\n",
        "\n",
        "k_values = range(1, 16)\n",
        "accuracies = []\n",
        "\n",
        "for k in k_values:\n",
        "    knn = KNeighborsClassifier(n_neighbors=k)\n",
        "    knn.fit(X_train_iris, y_train_iris)\n",
        "    y_pred_iris = knn.predict(X_test_iris)\n",
        "    accuracy = accuracy_score(y_test_iris, y_pred_iris)\n",
        "    accuracies.append(accuracy)\n",
        "    print(f'Accuracy for k={k}: {accuracy:.4f}')\n",
        "\n",
        "plt.figure(figsize=(10, 6))\n",
        "plt.plot(k_values, accuracies, marker='o', linestyle='-', color='b')\n",
        "plt.xlabel('Number of Neighbors (k)')\n",
        "plt.ylabel('Accuracy')\n",
        "plt.title('k-NN Classification Accuracy on Iris Dataset')\n",
        "plt.xticks(k_values)\n",
        "plt.grid(True)\n",
        "plt.show()\n"
      ],
      "metadata": {
        "colab": {
          "base_uri": "https://localhost:8080/",
          "height": 838
        },
        "id": "HAnR2eLRnOir",
        "outputId": "7d7e9dc5-7b24-46e5-c14b-1ba410430d95"
      },
      "execution_count": 32,
      "outputs": [
        {
          "output_type": "stream",
          "name": "stdout",
          "text": [
            "Accuracy for k=1: 0.9667\n",
            "Accuracy for k=2: 1.0000\n",
            "Accuracy for k=3: 1.0000\n",
            "Accuracy for k=4: 1.0000\n",
            "Accuracy for k=5: 1.0000\n",
            "Accuracy for k=6: 1.0000\n",
            "Accuracy for k=7: 1.0000\n",
            "Accuracy for k=8: 1.0000\n",
            "Accuracy for k=9: 1.0000\n",
            "Accuracy for k=10: 1.0000\n",
            "Accuracy for k=11: 1.0000\n",
            "Accuracy for k=12: 1.0000\n",
            "Accuracy for k=13: 1.0000\n",
            "Accuracy for k=14: 1.0000\n",
            "Accuracy for k=15: 1.0000\n"
          ]
        },
        {
          "output_type": "display_data",
          "data": {
            "text/plain": [
              "<Figure size 1000x600 with 1 Axes>"
            ],
            "image/png": "[encoded data removed]"
          },
          "metadata": {}
        }
      ]
    }
  ]
}