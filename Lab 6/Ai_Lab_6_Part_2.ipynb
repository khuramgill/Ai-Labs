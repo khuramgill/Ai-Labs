{
  "nbformat": 4,
  "nbformat_minor": 0,
  "metadata": {
    "colab": {
      "provenance": [],
      "authorship_tag": "ABX9TyMN4k/vW/sfhxv+QwZwvi87",
      "include_colab_link": true
    },
    "kernelspec": {
      "name": "python3",
      "display_name": "Python 3"
    },
    "language_info": {
      "name": "python"
    }
  },
  "cells": [
    {
      "cell_type": "markdown",
      "metadata": {
        "id": "view-in-github",
        "colab_type": "text"
      },
      "source": [
        "<a href=\"https://colab.research.google.com/github/khuramgill/Ai-Labs/blob/main/Ai_Lab_6_Part_2.ipynb\" target=\"_parent\"><img src=\"https://colab.research.google.com/assets/colab-badge.svg\" alt=\"Open In Colab\"/></a>"
      ]
    },
    {
      "cell_type": "markdown",
      "source": [
        "# **Case Study 1:Employee Performance Prediction**"
      ],
      "metadata": {
        "id": "fsc0KuPZfvYD"
      }
    },
    {
      "cell_type": "markdown",
      "source": [
        "**Generate Dummy Data**"
      ],
      "metadata": {
        "id": "BR5Mu1N0f21D"
      }
    },
    {
      "cell_type": "code",
      "execution_count": 1,
      "metadata": {
        "id": "VMuUrho8fufJ"
      },
      "outputs": [],
      "source": [
        "# Importing necessary libraries\n",
        "import numpy as np\n",
        "import pandas as pd\n",
        "import matplotlib.pyplot as plt\n",
        "from sklearn.model_selection import train_test_split\n",
        "from sklearn.preprocessing import StandardScaler\n",
        "\n",
        "# Step 1: Generate Dummy Data\n",
        "np.random.seed(42)  # For reproducibility\n",
        "\n",
        "n = 1500  # Number of rows\n",
        "data = {\n",
        "    'EmployeeID': np.arange(1, n + 1),\n",
        "    'Age': np.random.randint(22, 61, size=n),\n",
        "    'YearsOfExperience': np.random.randint(1, 41, size=n),\n",
        "    'Gender': np.random.choice(['Male', 'Female'], size=n),\n",
        "    'PerformanceRating': np.random.randint(1, 6, size=n)  # Ratings between 1 (Low) and 5 (Excellent)\n",
        "}\n",
        "\n",
        "df = pd.DataFrame(data)\n"
      ]
    },
    {
      "cell_type": "markdown",
      "source": [
        "** Explore and Inspect the Data**"
      ],
      "metadata": {
        "id": "dfcM-mAVgHZS"
      }
    },
    {
      "cell_type": "code",
      "source": [
        "# Step 2: Explore and Inspect the Data\n",
        "print(\"First 15 rows of the dataset:\")\n",
        "print(df.head(15))\n",
        "\n",
        "print(\"\\nChecking for missing values:\")\n",
        "print(df.isnull().sum())\n"
      ],
      "metadata": {
        "colab": {
          "base_uri": "https://localhost:8080/"
        },
        "id": "CXAPki2dgKnI",
        "outputId": "dc45f952-a695-4666-f036-3432d783faf6"
      },
      "execution_count": 2,
      "outputs": [
        {
          "output_type": "stream",
          "name": "stdout",
          "text": [
            "First 15 rows of the dataset:\n",
            "    EmployeeID  Age  YearsOfExperience  Gender  PerformanceRating\n",
            "0            1   60                 16    Male                  5\n",
            "1            2   50                 27  Female                  5\n",
            "2            3   36                  8  Female                  2\n",
            "3            4   29                 25  Female                  4\n",
            "4            5   42                 17  Female                  1\n",
            "5            6   60                 29    Male                  5\n",
            "6            7   40                  8    Male                  5\n",
            "7            8   44                 15    Male                  4\n",
            "8            9   32                 27    Male                  2\n",
            "9           10   32                  7    Male                  1\n",
            "10          11   45                  3  Female                  2\n",
            "11          12   57                 29    Male                  2\n",
            "12          13   45                 24  Female                  1\n",
            "13          14   24                  3    Male                  1\n",
            "14          15   43                 20    Male                  5\n",
            "\n",
            "Checking for missing values:\n",
            "EmployeeID           0\n",
            "Age                  0\n",
            "YearsOfExperience    0\n",
            "Gender               0\n",
            "PerformanceRating    0\n",
            "dtype: int64\n"
          ]
        }
      ]
    },
    {
      "cell_type": "markdown",
      "source": [
        "**Handling Missing Data**"
      ],
      "metadata": {
        "id": "VC9W_073gNV6"
      }
    },
    {
      "cell_type": "code",
      "source": [
        "# Step 3: Handling Missing Data\n",
        "# Let's introduce some missing data in 'YearsOfExperience' for demonstration\n",
        "df.loc[np.random.randint(0, n, size=30), 'YearsOfExperience'] = np.nan\n",
        "print(\"\\nMissing values after introducing some:\")\n",
        "print(df.isnull().sum())\n",
        "\n",
        "# Fill missing YearsOfExperience with the mean\n",
        "df['YearsOfExperience'].fillna(df['YearsOfExperience'].mean(), inplace=True)\n",
        "print(\"\\nMissing values after filling:\")\n",
        "print(df.isnull().sum())\n"
      ],
      "metadata": {
        "colab": {
          "base_uri": "https://localhost:8080/"
        },
        "id": "Rv54O-e3gPoh",
        "outputId": "89643c0e-a714-44e0-9a5d-f68530f3bc17"
      },
      "execution_count": 3,
      "outputs": [
        {
          "output_type": "stream",
          "name": "stdout",
          "text": [
            "\n",
            "Missing values after introducing some:\n",
            "EmployeeID            0\n",
            "Age                   0\n",
            "YearsOfExperience    29\n",
            "Gender                0\n",
            "PerformanceRating     0\n",
            "dtype: int64\n",
            "\n",
            "Missing values after filling:\n",
            "EmployeeID           0\n",
            "Age                  0\n",
            "YearsOfExperience    0\n",
            "Gender               0\n",
            "PerformanceRating    0\n",
            "dtype: int64\n"
          ]
        },
        {
          "output_type": "stream",
          "name": "stderr",
          "text": [
            "<ipython-input-3-3eb23038fd38>:8: FutureWarning: A value is trying to be set on a copy of a DataFrame or Series through chained assignment using an inplace method.\n",
            "The behavior will change in pandas 3.0. This inplace method will never work because the intermediate object on which we are setting values always behaves as a copy.\n",
            "\n",
            "For example, when doing 'df[col].method(value, inplace=True)', try using 'df.method({col: value}, inplace=True)' or df[col] = df[col].method(value) instead, to perform the operation inplace on the original object.\n",
            "\n",
            "\n",
            "  df['YearsOfExperience'].fillna(df['YearsOfExperience'].mean(), inplace=True)\n"
          ]
        }
      ]
    },
    {
      "cell_type": "markdown",
      "source": [
        "**Encoding Categorical Data**"
      ],
      "metadata": {
        "id": "VkwpBUiOgSHa"
      }
    },
    {
      "cell_type": "code",
      "source": [
        "# Step 4: Encoding Categorical Data\n",
        "df['Gender'] = df['Gender'].map({'Male': 0, 'Female': 1})\n",
        "print(\"\\nAfter encoding 'Gender' column:\")\n",
        "print(df.head())\n"
      ],
      "metadata": {
        "colab": {
          "base_uri": "https://localhost:8080/"
        },
        "id": "qsoAcANqgUni",
        "outputId": "3d4c1503-bca1-403e-a150-089592cc1fe8"
      },
      "execution_count": 4,
      "outputs": [
        {
          "output_type": "stream",
          "name": "stdout",
          "text": [
            "\n",
            "After encoding 'Gender' column:\n",
            "   EmployeeID  Age  YearsOfExperience  Gender  PerformanceRating\n",
            "0           1   60               16.0       0                  5\n",
            "1           2   50               27.0       1                  5\n",
            "2           3   36                8.0       1                  2\n",
            "3           4   29               25.0       1                  4\n",
            "4           5   42               17.0       1                  1\n"
          ]
        }
      ]
    },
    {
      "cell_type": "markdown",
      "source": [
        "**Outlier Detection**"
      ],
      "metadata": {
        "id": "AwBrX-9zgW7q"
      }
    },
    {
      "cell_type": "code",
      "source": [
        "# Step 5: Outlier Detection\n",
        "# Visualizing outliers in 'YearsOfExperience' using a box plot\n",
        "plt.boxplot(df['YearsOfExperience'], vert=False)\n",
        "plt.title('Box Plot of Years of Experience')\n",
        "plt.show()\n",
        "\n",
        "# Identifying outliers: Let's assume values greater than 40 are outliers (as per the problem statement)\n",
        "outliers = df[df['YearsOfExperience'] > 40]\n",
        "print(\"\\nOutliers in 'YearsOfExperience':\")\n",
        "print(outliers)\n",
        "\n",
        "# Handling outliers: Cap values greater than 40 to 40\n",
        "df['YearsOfExperience'] = np.where(df['YearsOfExperience'] > 40, 40, df['YearsOfExperience'])\n"
      ],
      "metadata": {
        "colab": {
          "base_uri": "https://localhost:8080/",
          "height": 539
        },
        "id": "SGtsgHwvgaDK",
        "outputId": "de594798-6574-42ce-e3b2-da8f519154fd"
      },
      "execution_count": 5,
      "outputs": [
        {
          "output_type": "display_data",
          "data": {
            "text/plain": [
              "<Figure size 640x480 with 1 Axes>"
            ],
            "image/png": "[encoded data removed]"
          },
          "metadata": {}
        },
        {
          "output_type": "stream",
          "name": "stdout",
          "text": [
            "\n",
            "Outliers in 'YearsOfExperience':\n",
            "Empty DataFrame\n",
            "Columns: [EmployeeID, Age, YearsOfExperience, Gender, PerformanceRating]\n",
            "Index: []\n"
          ]
        }
      ]
    },
    {
      "cell_type": "markdown",
      "source": [
        "**Feature Scaling**"
      ],
      "metadata": {
        "id": "xJepzrFmgdDT"
      }
    },
    {
      "cell_type": "code",
      "source": [
        "# Step 6: Feature Scaling (Standardization using z-score normalization)\n",
        "scaler = StandardScaler()\n",
        "df[['Age', 'YearsOfExperience']] = scaler.fit_transform(df[['Age', 'YearsOfExperience']])\n",
        "print(\"\\nAfter feature scaling 'Age' and 'YearsOfExperience':\")\n",
        "print(df.head())\n"
      ],
      "metadata": {
        "colab": {
          "base_uri": "https://localhost:8080/"
        },
        "id": "7VCQd_-MgffD",
        "outputId": "78466b7a-8700-4b45-a84f-25ea0413c63a"
      },
      "execution_count": 6,
      "outputs": [
        {
          "output_type": "stream",
          "name": "stdout",
          "text": [
            "\n",
            "After feature scaling 'Age' and 'YearsOfExperience':\n",
            "   EmployeeID       Age  YearsOfExperience  Gender  PerformanceRating\n",
            "0           1  1.622911          -0.395218       0                  5\n",
            "1           2  0.743126           0.572405       1                  5\n",
            "2           3 -0.488574          -1.098943       1                  2\n",
            "3           4 -1.104424           0.396473       1                  4\n",
            "4           5  0.039297          -0.307252       1                  1\n"
          ]
        }
      ]
    },
    {
      "cell_type": "markdown",
      "source": [
        "**Data Visualization**"
      ],
      "metadata": {
        "id": "VxO882x8ghTb"
      }
    },
    {
      "cell_type": "code",
      "source": [
        "# Step 7: Data Visualization\n",
        "# Box plot for Performance Rating\n",
        "plt.boxplot(df['PerformanceRating'], vert=False)\n",
        "plt.title('Box Plot of Performance Rating')\n",
        "plt.show()\n",
        "\n",
        "# Scatter plot between Years of Experience and Performance Rating\n",
        "plt.scatter(df['YearsOfExperience'], df['PerformanceRating'], alpha=0.5)\n",
        "plt.title('Years of Experience vs Performance Rating')\n",
        "plt.xlabel('Years of Experience')\n",
        "plt.ylabel('Performance Rating')\n",
        "plt.show()\n"
      ],
      "metadata": {
        "colab": {
          "base_uri": "https://localhost:8080/",
          "height": 907
        },
        "id": "8gPWkb3kgj96",
        "outputId": "f5b08eb3-aa68-4d31-de03-d1b22808cd72"
      },
      "execution_count": 7,
      "outputs": [
        {
          "output_type": "display_data",
          "data": {
            "text/plain": [
              "<Figure size 640x480 with 1 Axes>"
            ],
            "image/png": "[encoded data removed]"
          },
          "metadata": {}
        },
        {
          "output_type": "display_data",
          "data": {
            "text/plain": [
              "<Figure size 640x480 with 1 Axes>"
            ],
            "image/png": "[encoded data removed]"
          },
          "metadata": {}
        }
      ]
    },
    {
      "cell_type": "markdown",
      "source": [
        "**Correlation Analysis**"
      ],
      "metadata": {
        "id": "JldOTobBgooS"
      }
    },
    {
      "cell_type": "code",
      "source": [
        "# Step 8: Correlation Analysis\n",
        "print(\"\\nCorrelation Matrix:\")\n",
        "print(df[['Age', 'YearsOfExperience', 'PerformanceRating']].corr())\n"
      ],
      "metadata": {
        "colab": {
          "base_uri": "https://localhost:8080/"
        },
        "id": "D7EhcFkigp0x",
        "outputId": "fb46ec3a-54c7-42ab-9a33-63dad7fd2073"
      },
      "execution_count": 8,
      "outputs": [
        {
          "output_type": "stream",
          "name": "stdout",
          "text": [
            "\n",
            "Correlation Matrix:\n",
            "                        Age  YearsOfExperience  PerformanceRating\n",
            "Age                1.000000          -0.000107           0.009473\n",
            "YearsOfExperience -0.000107           1.000000          -0.003275\n",
            "PerformanceRating  0.009473          -0.003275           1.000000\n"
          ]
        }
      ]
    },
    {
      "cell_type": "markdown",
      "source": [
        "**Feature Engineering**"
      ],
      "metadata": {
        "id": "pqX3uUGigr-a"
      }
    },
    {
      "cell_type": "code",
      "source": [
        "# Step 9: Feature Engineering (Creating 'Experience per Age')\n",
        "df['ExperiencePerAge'] = df['YearsOfExperience'] / df['Age']\n",
        "print(\"\\nAfter creating 'ExperiencePerAge':\")\n",
        "print(df.head())\n"
      ],
      "metadata": {
        "colab": {
          "base_uri": "https://localhost:8080/"
        },
        "id": "x2n2ek9xguCC",
        "outputId": "578928ba-4d1e-4c16-cae6-2450151f3c35"
      },
      "execution_count": 9,
      "outputs": [
        {
          "output_type": "stream",
          "name": "stdout",
          "text": [
            "\n",
            "After creating 'ExperiencePerAge':\n",
            "   EmployeeID       Age  YearsOfExperience  Gender  PerformanceRating  \\\n",
            "0           1  1.622911          -0.395218       0                  5   \n",
            "1           2  0.743126           0.572405       1                  5   \n",
            "2           3 -0.488574          -1.098943       1                  2   \n",
            "3           4 -1.104424           0.396473       1                  4   \n",
            "4           5  0.039297          -0.307252       1                  1   \n",
            "\n",
            "   ExperiencePerAge  \n",
            "0         -0.243524  \n",
            "1          0.770266  \n",
            "2          2.249285  \n",
            "3         -0.358986  \n",
            "4         -7.818692  \n"
          ]
        }
      ]
    },
    {
      "cell_type": "markdown",
      "source": [
        "**Prepare Data for Modeling**"
      ],
      "metadata": {
        "id": "DkRfhOLPgxpZ"
      }
    },
    {
      "cell_type": "code",
      "source": [
        "# Step 10: Prepare Data for Modeling\n",
        "# Dropping irrelevant columns, like 'EmployeeID'\n",
        "df = df.drop(columns=['EmployeeID'])\n",
        "\n",
        "# Splitting the data into training and testing sets\n",
        "X = df.drop('PerformanceRating', axis=1)\n",
        "y = df['PerformanceRating']\n",
        "X_train, X_test, y_train, y_test = train_test_split(X, y, test_size=0.2, random_state=42)\n",
        "\n",
        "print(\"\\nShape of training data:\", X_train.shape)\n",
        "print(\"Shape of testing data:\", X_test.shape)\n"
      ],
      "metadata": {
        "colab": {
          "base_uri": "https://localhost:8080/"
        },
        "id": "cTz8L4ErgzmE",
        "outputId": "679cb557-4231-4f0d-ec39-e2ca862ad259"
      },
      "execution_count": 10,
      "outputs": [
        {
          "output_type": "stream",
          "name": "stdout",
          "text": [
            "\n",
            "Shape of training data: (1200, 4)\n",
            "Shape of testing data: (300, 4)\n"
          ]
        }
      ]
    }
  ]
}