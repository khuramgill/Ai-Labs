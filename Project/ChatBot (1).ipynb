{
 "cells": [
  {
   "cell_type": "markdown",
   "metadata": {
    "id": "luloqEqZ9pSA"
   },
   "source": [
    "**install required libraries**"
   ]
  },
  {
   "cell_type": "code",
   "execution_count": 1,
   "metadata": {
    "colab": {
     "base_uri": "https://localhost:8080/"
    },
    "id": "sxBRRVzl9p0o",
    "outputId": "a7981e9d-e8d7-437b-cffa-f6e41c9c42fd"
   },
   "outputs": [
    {
     "name": "stdout",
     "output_type": "stream",
     "text": [
      "Collecting pinecone-client\n",
      "  Downloading pinecone_client-5.0.1-py3-none-any.whl.metadata (19 kB)\n",
      "Collecting open-clip-torch\n",
      "  Downloading open_clip_torch-2.29.0-py3-none-any.whl.metadata (31 kB)\n",
      "Requirement already satisfied: transformers in /usr/local/lib/python3.10/dist-packages (4.46.2)\n",
      "Collecting PyPDF2\n",
      "  Downloading pypdf2-3.0.1-py3-none-any.whl.metadata (6.8 kB)\n",
      "Requirement already satisfied: torch in /usr/local/lib/python3.10/dist-packages (2.5.1+cu121)\n",
      "Requirement already satisfied: certifi>=2019.11.17 in /usr/local/lib/python3.10/dist-packages (from pinecone-client) (2024.8.30)\n",
      "Collecting pinecone-plugin-inference<2.0.0,>=1.0.3 (from pinecone-client)\n",
      "  Downloading pinecone_plugin_inference-1.1.0-py3-none-any.whl.metadata (2.2 kB)\n",
      "Collecting pinecone-plugin-interface<0.0.8,>=0.0.7 (from pinecone-client)\n",
      "  Downloading pinecone_plugin_interface-0.0.7-py3-none-any.whl.metadata (1.2 kB)\n",
      "Requirement already satisfied: tqdm>=4.64.1 in /usr/local/lib/python3.10/dist-packages (from pinecone-client) (4.66.6)\n",
      "Requirement already satisfied: typing-extensions>=3.7.4 in /usr/local/lib/python3.10/dist-packages (from pinecone-client) (4.12.2)\n",
      "Requirement already satisfied: urllib3>=1.26.0 in /usr/local/lib/python3.10/dist-packages (from pinecone-client) (2.2.3)\n",
      "Requirement already satisfied: torchvision in /usr/local/lib/python3.10/dist-packages (from open-clip-torch) (0.20.1+cu121)\n",
      "Requirement already satisfied: regex in /usr/local/lib/python3.10/dist-packages (from open-clip-torch) (2024.9.11)\n",
      "Collecting ftfy (from open-clip-torch)\n",
      "  Downloading ftfy-6.3.1-py3-none-any.whl.metadata (7.3 kB)\n",
      "Requirement already satisfied: huggingface-hub in /usr/local/lib/python3.10/dist-packages (from open-clip-torch) (0.26.2)\n",
      "Requirement already satisfied: safetensors in /usr/local/lib/python3.10/dist-packages (from open-clip-torch) (0.4.5)\n",
      "Requirement already satisfied: timm in /usr/local/lib/python3.10/dist-packages (from open-clip-torch) (1.0.11)\n",
      "Requirement already satisfied: filelock in /usr/local/lib/python3.10/dist-packages (from transformers) (3.16.1)\n",
      "Requirement already satisfied: numpy>=1.17 in /usr/local/lib/python3.10/dist-packages (from transformers) (1.26.4)\n",
      "Requirement already satisfied: packaging>=20.0 in /usr/local/lib/python3.10/dist-packages (from transformers) (24.2)\n",
      "Requirement already satisfied: pyyaml>=5.1 in /usr/local/lib/python3.10/dist-packages (from transformers) (6.0.2)\n",
      "Requirement already satisfied: requests in /usr/local/lib/python3.10/dist-packages (from transformers) (2.32.3)\n",
      "Requirement already satisfied: tokenizers<0.21,>=0.20 in /usr/local/lib/python3.10/dist-packages (from transformers) (0.20.3)\n",
      "Requirement already satisfied: networkx in /usr/local/lib/python3.10/dist-packages (from torch) (3.4.2)\n",
      "Requirement already satisfied: jinja2 in /usr/local/lib/python3.10/dist-packages (from torch) (3.1.4)\n",
      "Requirement already satisfied: fsspec in /usr/local/lib/python3.10/dist-packages (from torch) (2024.10.0)\n",
      "Requirement already satisfied: sympy==1.13.1 in /usr/local/lib/python3.10/dist-packages (from torch) (1.13.1)\n",
      "Requirement already satisfied: mpmath<1.4,>=1.1.0 in /usr/local/lib/python3.10/dist-packages (from sympy==1.13.1->torch) (1.3.0)\n",
      "Requirement already satisfied: wcwidth in /usr/local/lib/python3.10/dist-packages (from ftfy->open-clip-torch) (0.2.13)\n",
      "Requirement already satisfied: MarkupSafe>=2.0 in /usr/local/lib/python3.10/dist-packages (from jinja2->torch) (3.0.2)\n",
      "Requirement already satisfied: charset-normalizer<4,>=2 in /usr/local/lib/python3.10/dist-packages (from requests->transformers) (3.4.0)\n",
      "Requirement already satisfied: idna<4,>=2.5 in /usr/local/lib/python3.10/dist-packages (from requests->transformers) (3.10)\n",
      "Requirement already satisfied: pillow!=8.3.*,>=5.3.0 in /usr/local/lib/python3.10/dist-packages (from torchvision->open-clip-torch) (11.0.0)\n",
      "Downloading pinecone_client-5.0.1-py3-none-any.whl (244 kB)\n",
      "\u001b[2K   \u001b[90m━━━━━━━━━━━━━━━━━━━━━━━━━━━━━━━━━━━━━━━━\u001b[0m \u001b[32m244.8/244.8 kB\u001b[0m \u001b[31m6.2 MB/s\u001b[0m eta \u001b[36m0:00:00\u001b[0m\n",
      "\u001b[?25hDownloading open_clip_torch-2.29.0-py3-none-any.whl (1.5 MB)\n",
      "\u001b[2K   \u001b[90m━━━━━━━━━━━━━━━━━━━━━━━━━━━━━━━━━━━━━━━━\u001b[0m \u001b[32m1.5/1.5 MB\u001b[0m \u001b[31m23.4 MB/s\u001b[0m eta \u001b[36m0:00:00\u001b[0m\n",
      "\u001b[?25hDownloading pypdf2-3.0.1-py3-none-any.whl (232 kB)\n",
      "\u001b[2K   \u001b[90m━━━━━━━━━━━━━━━━━━━━━━━━━━━━━━━━━━━━━━━━\u001b[0m \u001b[32m232.6/232.6 kB\u001b[0m \u001b[31m13.7 MB/s\u001b[0m eta \u001b[36m0:00:00\u001b[0m\n",
      "\u001b[?25hDownloading pinecone_plugin_inference-1.1.0-py3-none-any.whl (85 kB)\n",
      "\u001b[2K   \u001b[90m━━━━━━━━━━━━━━━━━━━━━━━━━━━━━━━━━━━━━━━━\u001b[0m \u001b[32m85.4/85.4 kB\u001b[0m \u001b[31m5.1 MB/s\u001b[0m eta \u001b[36m0:00:00\u001b[0m\n",
      "\u001b[?25hDownloading pinecone_plugin_interface-0.0.7-py3-none-any.whl (6.2 kB)\n",
      "Downloading ftfy-6.3.1-py3-none-any.whl (44 kB)\n",
      "\u001b[2K   \u001b[90m━━━━━━━━━━━━━━━━━━━━━━━━━━━━━━━━━━━━━━━━\u001b[0m \u001b[32m44.8/44.8 kB\u001b[0m \u001b[31m2.9 MB/s\u001b[0m eta \u001b[36m0:00:00\u001b[0m\n",
      "\u001b[?25hInstalling collected packages: PyPDF2, pinecone-plugin-interface, ftfy, pinecone-plugin-inference, pinecone-client, open-clip-torch\n",
      "Successfully installed PyPDF2-3.0.1 ftfy-6.3.1 open-clip-torch-2.29.0 pinecone-client-5.0.1 pinecone-plugin-inference-1.1.0 pinecone-plugin-interface-0.0.7\n"
     ]
    }
   ],
   "source": [
    "!pip install pinecone-client open-clip-torch transformers PyPDF2 torch\n"
   ]
  },
  {
   "cell_type": "code",
   "execution_count": 2,
   "metadata": {
    "id": "HB7RPeTqD1ki"
   },
   "outputs": [],
   "source": [
    "import os\n",
    "import PyPDF2\n",
    "\n",
    "def extract_text_from_pdfs(pdf_folder):\n",
    "    pdf_texts = []\n",
    "    for filename in os.listdir(pdf_folder):\n",
    "        if filename.endswith(\".pdf\"):\n",
    "            pdf_path = os.path.join(pdf_folder, filename)\n",
    "            with open(pdf_path, \"rb\") as file:\n",
    "                reader = PyPDF2.PdfReader(file)\n",
    "                text = \"\"\n",
    "                for page in reader.pages:\n",
    "                    text += page.extract_text()\n",
    "                pdf_texts.append((filename, text))\n",
    "    return pdf_texts\n",
    "\n",
    "# Example: Set the path to your folder containing PDFs\n",
    "pdf_folder = \"/content\"\n",
    "pdf_data = extract_text_from_pdfs(pdf_folder)\n"
   ]
  },
  {
   "cell_type": "code",
   "execution_count": 3,
   "metadata": {
    "id": "jmG9zF2R-Efi"
   },
   "outputs": [],
   "source": [
    "def split_into_chunks(text, chunk_size=500):\n",
    "    \"\"\"\n",
    "    Split the text into smaller chunks for better embedding generation.\n",
    "    \"\"\"\n",
    "    words = text.split()\n",
    "    chunks = [' '.join(words[i:i + chunk_size]) for i in range(0, len(words), chunk_size)]\n",
    "    return chunks\n",
    "\n",
    "processed_data = []\n",
    "for filename, content in pdf_data:\n",
    "    chunks = split_into_chunks(content)\n",
    "    for i, chunk in enumerate(chunks):\n",
    "        processed_data.append({\"id\": f\"{filename}-{i}\", \"text\": chunk})\n"
   ]
  },
  {
   "cell_type": "code",
   "execution_count": 8,
   "metadata": {
    "colab": {
     "base_uri": "https://localhost:8080/",
     "height": 356
    },
    "id": "vZfb45U1m7JE",
    "outputId": "dabb8d53-d68c-4371-8656-b4d7b03e44b4"
   },
   "outputs": [
    {
     "name": "stdout",
     "output_type": "stream",
     "text": [
      "Requirement already satisfied: sympy in /usr/local/lib/python3.10/dist-packages (1.13.1)\n",
      "Collecting sympy\n",
      "  Downloading sympy-1.13.3-py3-none-any.whl.metadata (12 kB)\n",
      "Requirement already satisfied: mpmath<1.4,>=1.1.0 in /usr/local/lib/python3.10/dist-packages (from sympy) (1.3.0)\n",
      "Downloading sympy-1.13.3-py3-none-any.whl (6.2 MB)\n",
      "\u001b[2K   \u001b[90m━━━━━━━━━━━━━━━━━━━━━━━━━━━━━━━━━━━━━━━━\u001b[0m \u001b[32m6.2/6.2 MB\u001b[0m \u001b[31m33.6 MB/s\u001b[0m eta \u001b[36m0:00:00\u001b[0m\n",
      "\u001b[?25hInstalling collected packages: sympy\n",
      "  Attempting uninstall: sympy\n",
      "    Found existing installation: sympy 1.13.1\n",
      "    Uninstalling sympy-1.13.1:\n",
      "      Successfully uninstalled sympy-1.13.1\n",
      "\u001b[31mERROR: pip's dependency resolver does not currently take into account all the packages that are installed. This behaviour is the source of the following dependency conflicts.\n",
      "torch 2.5.1+cu121 requires sympy==1.13.1; python_version >= \"3.9\", but you have sympy 1.13.3 which is incompatible.\u001b[0m\u001b[31m\n",
      "\u001b[0mSuccessfully installed sympy-1.13.3\n"
     ]
    },
    {
     "data": {
      "application/vnd.colab-display-data+json": {
       "id": "b9945d4cce0448ce9fff5f51d456a255",
       "pip_warning": {
        "packages": [
         "sympy"
        ]
       }
      }
     },
     "metadata": {},
     "output_type": "display_data"
    }
   ],
   "source": [
    "!pip install --upgrade sympy\n"
   ]
  },
  {
   "cell_type": "code",
   "execution_count": null,
   "metadata": {
    "id": "SE1M1DK3EX5L"
   },
   "outputs": [],
   "source": [
    "import torch\n",
    "import open_clip\n",
    "from pinecone import Pinecone\n",
    "\n",
    "# Initialize the open_clip model\n",
    "device = 'cuda' if torch.cuda.is_available() else 'cpu'\n",
    "model, _, _ = open_clip.create_model_and_transforms(\n",
    "    'hf-hub:laion/CLIP-ViT-B-32-laion2B-s34B-b79K'\n",
    ")\n",
    "tokenizer = open_clip.get_tokenizer('hf-hub:laion/CLIP-ViT-B-32-laion2B-s34B-b79K')\n",
    "model = model.to(device)\n",
    "\n",
    "# Generate embeddings\n",
    "def generate_embeddings(texts, model, tokenizer, device):\n",
    "    model.eval()\n",
    "    with torch.no_grad():\n",
    "        tokenized = tokenizer(texts)\n",
    "        embeddings = model.encode_text(tokenized.to(device))\n",
    "        return embeddings.cpu().numpy()\n",
    "\n",
    "# Initialize Pinecone\n",
    "\n",
    "# Upload data\n",
    "for data in processed_data:\n",
    "    embedding = generate_embeddings([data[\"text\"]], model, tokenizer, device)[0]\n",
    "    index.upsert([(data[\"id\"], embedding, {\"text\": data[\"text\"]})])\n"
   ]
  },
  {
   "cell_type": "markdown",
   "metadata": {
    "id": "_LrllttN-Lw8"
   },
   "source": [
    " **Initialize API Keys**"
   ]
  },
  {
   "cell_type": "code",
   "execution_count": null,
   "metadata": {
    "id": "fRciupTXBseQ"
   },
   "outputs": [],
   "source": [
    "import openai\n",
    "\n",
    "# Set up OpenAI API Key\n",
    "#openai.api_key = \"XYZ\"\n",
    "\n",
    "def query_chatbot(query, model, tokenizer, index, device):\n",
    "    # Step 1: Generate query embedding\n",
    "    query_embedding = generate_embeddings([query], model, tokenizer, device)[0].tolist()  # Convert to Python list\n",
    "\n",
    "    # Step 2: Query Pinecone to retrieve relevant documents\n",
    "    results = index.query(\n",
    "        vector=query_embedding,\n",
    "        top_k=5,\n",
    "        include_metadata=True\n",
    "    )\n",
    "\n",
    "    # Step 3: Print and inspect the metadata structure of the matches\n",
    "    for match in results[\"matches\"]:\n",
    "        print(match[\"metadata\"])  # Inspect the metadata keys\n",
    "\n",
    "    # Step 4: Construct the prompt for ChatGPT\n",
    "    prompt = \"You are an expert on epilepsy. Based on the following documents, answer the question.\\n\\n\"\n",
    "    for match in results[\"matches\"]:\n",
    "        # Replace 'text' with the correct key from your metadata\n",
    "        prompt += f\"Document: {match['metadata']['text']}\\n\\n\"  # Modify based on the inspection result\n",
    "    prompt += f\"Question: {query}\\nAnswer:\"\n",
    "\n",
    "    # Step 5: Query ChatGPT for a response\n",
    "    response = openai.ChatCompletion.create(\n",
    "        model=\"gpt-3.5-turbo\",\n",
    "        messages=[\n",
    "            {\"role\": \"system\", \"content\": \"You are a medical assistant with expertise in epilepsy.\"},\n",
    "            {\"role\": \"user\", \"content\": prompt}\n",
    "        ],\n",
    "        max_tokens=200,\n",
    "        temperature=0.7\n",
    "    )\n",
    "\n",
    "    # Step 6: Extract and return the response text\n",
    "    return response['choices'][0]['message']['content'].strip()\n"
   ]
  },
  {
   "cell_type": "code",
   "execution_count": 17,
   "metadata": {
    "colab": {
     "base_uri": "https://localhost:8080/",
     "height": 439
    },
    "id": "fp1T4DSBoMio",
    "outputId": "4c93c8f8-9e0d-4d86-8694-551969122347"
   },
   "outputs": [
    {
     "name": "stdout",
     "output_type": "stream",
     "text": [
      "{'content': 'mildest types of epilepsy. • It is almost always outgrown by puberty and is never diagnosed in adults. • Seizures tend to occur during sleep and are most often simple partial motor seizures that involve the face and secondarily gener-alized (grand mal) seizures. Type 3: Symptomatic Generalized Epilepsy • This is caused by widespread brain damage, and injury during birth is the most common cause. • When the cause of symptomatic general epilepsy cannot be identi- ﬁ ed, the disorder may be referred to as cryptogenic epilepsy. • Speciﬁ c, inherited brain diseases, such as adrenoleukodystrophy (ADL, which was featured in the movie “Lorenzo’s Oil”), or brain infections (such as meningitis and encephalitis) can also cause symptomatic generalized epilepsy. • In addition to seizures, these patients often have other neurologi- cal problems, such as developmental delay, mental retardation or cerebral palsy. • These epilepsies include different subtypes—the most typical is the Lennox-Gastaut syndrome. Multiple types of seizures (gen-eralized tonic-clonic, tonic, myoclonic, tonic, atonic and absence seizures) are common and can be difﬁ cult to control. Type 4: Symptomatic Partial Epilepsy • This is the most common type of epilepsy to begin in adulthood. • It is caused by a localized abnormality of the brain, which can re- sult from strokes, tumors, trauma, scarring or “sclerosis” of brain tissue (common in the temporal lobe), cysts or infections. • Sometimes these brain abnormalities can be seen on magnetic resonance imaging (MRI) scans, but often they cannot be identi- ﬁ ed, despite repeated attempts, because they are microscopic. • When the cause of symptomatic partial epilepsy cannot be identi- ﬁ ed, the disorder may be referred to as cryptogenic epilepsy.Types of Epilepsy, continued…Understanding Seizures & Epilepsy 9The evaluation of patients with epilepsy is aimed at determining the type of seizures and their cause, since different types respond best to speciﬁ c treatments. The diagnosis is based on: • The patient’s medical history , including any family history of seizures, associated medical conditions and current medications. Some important questions you will be asked include: o At what age did the seizures begin? o What circumstances surrounded your ﬁ rst seizure? o What factors seem to bring on the seizures? o What do you feel before, during and after the seizures? o How long do the seizures last? o Have you been treated for epilepsy before? What medica- tions were prescribed and in what dosages? Was the treat-ment effective? o Others who have often seen you before, during and after seizures, such as family and close friends, should be pres-ent to provide details of your seizures if they involve loss of consciousness. • A complete physical and neurological examination — your mus- cle strength, reﬂ exes, eye sight, hearing and ability to detect vari- ous sensations are tested so your doctors can better understand the cause of your seizures • An electroencephalogram (EEG) , which measures electrical im- pulses in the brain. o This is the only test that directly detects electrical activity in the'}\n",
      "{'content': 'their chances of developing epilepsy are increased. These include: \\x83Learning difficulties – the greater the degree of learning difficulties, the higher the risk of developing epilepsy. \\x83Age – the risk of developing epilepsy increases at adolescence. \\x83Presence of other neurological conditions \\x83Presence of certain genetic conditions – such as Fragile X Syndrome and tuberous sclerosis. There are many theories for the higher incidence of epilepsy amongst children with autism, many of which are related to genetic factors. Characteristics associated with Autism Prefers to spend time alone Difficulty interacting with others Poor motor co-ordination Absence of empathy Hypo-sensitivity to certain sensory stimuliHyper-sensitivity to certain sensory stimuli Repetitive behaviour and movementsFailure to use imaginative and pretend play Favours routine and resists changesRarely using gestures or facial expressions Obsessive interests and excessive attachment to objectsFailure to understand social rules and conventions Problems using language to communicate – may be delayed or lostProblems adapting to change and unfamiliar situations as well as planning for the future Medication and management issues Some antiepileptic drugs have a negative effect on mood, potentially worsening any behavioural issues a child with autism may already have. Consequently, the decision around which behaviour management techniques to use may not be straightforward.Some of the more subtle seizure symptoms, such as not responding to verbal or visual stimuli as well as repetitive behaviours, can mimic behaviours seen in autism. As a result, many parents of children with autism find it hard to distinguish between the unusual behaviour their child exhibits and seizure activity. This could also delay the initial diagnosis of epilepsy.Sleep complicationsBoth autism and epilepsy can interfere with sleep. As a result, poor quality sleep may worsen a child’s behaviour or ability to learn and could trigger more seizures. If your child is experiencing problems with sleep, it is important to discuss it with your healthcare team to see if anything can be done to help. ‘ Autism is a lifelong, developmental disability that affects how a person communicates with and relates to other people, and how they experience the world around them.’ National Autistic Society A GUIDE FOR PARENTS youngepilepsy.org.uk39 39Epilepsy and ADHD The diagnosis of Attention Deficit Hyperactivity Disorder (ADHD) is made when a child shows abnormally high levels of inattention and/or hyperactivity and impulsiveness. ADHD has three subtypes: • predominantly inattentive type • predominantly hyperactive- impulsive type • combined inattentive and hyperactive-impulsive type Some common characteristics of ADHD include: • hyperactivity • impulsive behaviour • inattention • difficulty learning new things • performance may often depend on task • disorganisation • difficulty modifying behaviour in different settings • specific learning disabilities • problems with executive functions Whilst ADHD affects between 3 and 5% of school age children, as many as 20−40% of children with epilepsy also have ADHD. The predominantly inattentive type is thought to be more common in children with epilepsy. Explanations for the higher incidence of ADHD amongst children with epilepsy include: • the side effects of antiepileptic drugs (including inattention, hyperactivity and mood problems) •'}\n",
      "{'content': 'activity because of their epilepsy. However, significant barriers still exist for people with epilepsy in school and work. Antiseizure medications may cause side effects that interfere with concentration and memory. Children with epilepsy may need extra time to complete schoolwork, and they may need to have instructions or other information repeated for them. Some children with epilepsy will need special educational plans to help address their learning challenges. Teachers should be given instructions on what to do if a child in their classroom has a seizure, and parents should work with the school system to find reasonable ways to accommodate any special needs their child may have. Pregnancy and parenthood Epilepsy itself does not interfere with the ability to become pregnant and women who have epilepsy and take appropriate precautions have similar odds of having a healthy pregnancy and a healthy child to women without a chronic medical condition. With the appropriate selection of safe antiseizure medications during pregnancy, use of supplemental folic acid, and ideally, with pre-pregnancy planning, most people with epilepsy can have a healthy pregnancy with good outcomes for themselves and their developing child.NATIONAL INSTITUTES OF HEALTH29Women with epilepsy should be advised that some antiseizure medications carry an increased risk of birth defects. It is important to work with a team of providers that includes a neurologist and an obstetrician to learn about any special risks associated with epilepsy and antiseizure medications. Children of parents with epilepsy have about 5% risk of developing the condition at some point, compared to roughly 1% in a child in the general population. However, the risk of developing epilepsy increases if a parent has a hereditary form of the disorder. Parents who are concerned that their epilepsy may be hereditary may wish to consult a genetic counselor to determine their risk of passing on the disorder. EPILEPSY AND SEIZURES30 What are the latest updates on epilepsy and seizures? The National Institute of Neurological Disorders and Stroke (NINDS) conducts and supports research to better understand and diagnose epilepsy, develop new treatments, and ultimately, to prevent epilepsy. NINDS epilepsy research efforts include: The Epilepsy Therapy Screening Program (previously called the Anticonvulsant Screening Program) was created in 1975 to facilitate the discovery of new antiseizure drugs and has contributed to the development of nearly a dozen approved medications. NINDS Centers Without Walls (CWoW) for Collaborative Research in the Epilepsies are multicenter, multidisciplinary groups that address research challenges to advance prevention, diagnosis, and/or treatment of the epilepsies and related co-occurring conditions. NINDS’s epilepsy CWoW projects include: • Epilepsy 4000 (Epi4K) was an international effort to analyze DNA from 4,000 people with epilepsy and their relatives to identify disease-causing genes. Epi4K has now expanded into the worldwide effort called the Epi25 Collaborative with support from the National Human Genome Research Institute. • The Center for SUDEP Research (CSR) brought together a collaboration of researchers with diverse expertise from multiple academic institutions in the United States and England to study and understand SUDEP . NATIONAL INSTITUTES OF'}\n",
      "{'content': 'a common biological and/or genetic problem that causes both ADHD and epilepsy • the effect of seizures and/or ongoing abnormal electrical activity on the brain • psychosocial issues stemming from having epilepsy Medication and diagnosis issues A question still remains as to whether treatment of ADHD with stimulants is entirely safe for children with epilepsy or whether they increase seizure frequency. In cases where seizure control is poor and there is a history of tonic-clonic seizures, seizure frequency should be monitored closely in the months following stimulant introduction. Some of the side effects of antiepileptic drugs, such as hyperactivity, inattention and aggression, can mimic some of the symptoms seen in ADHD. Furthermore, some seizure symptoms mimic behaviours seen in ADHD and vice versa. These factors may result in a delay to the diagnosis of either condition, or even misdiagnosis. For example, absence seizures are frequently misdiagnosed as ADHD.Emotional disorders Emotional issues, such as depressive and anxiety disorders, are some of the most common comorbidities within epilepsy. Risk factors that may increase the chances of a child with epilepsy developing an emotional disorder are: • adolescence • taking more than one antiepileptic drug • poor seizure control • temporal and frontal lobe epilepsy • family history of emotional disorders • other medical conditions, especially those associated with epilepsy • younger age of seizure onset • female gender • social problems • side effects of antiepileptic drugs • effect of seizures and/or ongoing abnormal electrical activity on the brain • psychological and social issues stemming from having epilepsy A GUIDE FOR PARENTS youngepilepsy.org.uk40 41 40Managing challenging behaviour Whatever the cause of challenging behaviour, positive behaviour management strategies are often effective. Children with epilepsy may experience problems with brain function and development, which means they may need more support to learn self-control and acceptable behaviour than you might expect of other children their age. They may also be more sensitive to issues around them. Promoting good behaviour (proactive interventions) \\x83Address the child’s needs to avoid frustration. \\x83Ensure appropriate, consistent expectations. \\x83Model good behaviour and communication. \\x83Reward desirable behaviours – this does not always have to be a physical treat. It could be stickers, praise, time with you, privileges or responsibility. \\x83Boost self-esteem.Pros and cons of punishing unwanted behaviour Pros: Punishing unwanted behaviour can result in the behaviour you want in the short term because you are in charge and have authority. Cons: Punishing unwanted behaviour does not address the cause, so different unwanted behaviours are likely to result. It also teaches the child that punishment is acceptable, so they may use it against others. Working out the best strategies for each behavioural problem is not easy and may not be the same for every child or on every occasion. General positive measures to reduce the number of difficult behaviours is a good start before focussing on specific problems. Reacting to challenging behaviour - reactive strategies \\x83Remove the trigger if possible. \\x83De-escalate situations by distracting your child. However, make sure you discuss the behaviour'}\n",
      "{'content': 'in the majority of people with epilepsy, a steady annual incidence of 20-70 per 100.000 would result in a 2-5% prevalence instead of the observed 0.4-1% which indicate that most patients are cured eventually (Blume, [39], citing Bercovic et al. [40] and Sander and Sillanpaa [41]). Most reviews present numbers within the WHO estimates and further points to other differences related to regions, age and gender. In general, there seems to be a higher incidence of epilepsy in developing countries as compared to developed countries, unless cultural determined social stigmas could be thought to affect the recorded prevalence negatively, as in the case of Asia [16]. Some of the presumed causes for the higher incidence in developing countries are higher risk for conditions such as neurocysticercosis, meningitis, malaria, pre- and perinatal complications and malnutrition which all can lead to permanent brain damage, resulting in epilepsy [42]. In developed countries incidence is relatively high among infants and young children and several times higher among elderly than among adults (prevalence increases with age). In developing countries, incidence is also high among infants and young children, but the prevalence peaks in adolescence and early adulthood [16]. Forsgren et al. (2005) estimated that the age-specific incidence rates in Europe was 70/100.000 (age < 20), 30/100.000 (age 20-64) and 100/100.000 (age > 65) and that 20-30% of those with seizures experience more than one seizure per month [43]. 10 It would seem males are slightly more often affected by epilepsy than females, although idiopathic generalized epilepsies are most common among females [44]. It is still not clear if there is indeed a consistent significant difference, and if so, which variables (e.g. physiology, exposure, cultural interactions with gender) would be most explanatory [16]. Some studies show significance, others not, and dominance could shift between age groups [43]. Regarding the epidemiology of seizure types (partial versus generalized) and their presumed aetiologies (symptomatic/cryptogenic versus idiopathic), estimates vary widely dependent on the studies, regions considered, and age of the patients. The prevalence of partial and generalized seizures among people with epilepsy has been reported to be 3-92% and 6-97%, respectively, with prevalence of symptomatic/cryptogenic seizures in the range of 9-92% and 8-91% for idiopathic epilepsies [16, 45-47]. SE is the most dreaded type of seizures due to high short-term death rates (approx. 20%) and has an average incidence of at least 20/100.000 with a bimodal dispersion (highest in childhood and above age 60 - reviewed in [48]). 11 Chapter 6 - Complications of epilepsy. People with epilepsy show a higher occurrence of anxiety-, mood- and attention deficit hyperactivity disorders, but the causal relationship is at present undetermined, as are the question whether a causal relationship exist at all, given the bidirectional relation between these disorders and seizures disorders. Furthermore, the comorbidity of these disorders with epilepsy has been ignored for years as an “accepted” way to counteract pre-19th century lingering perceptions of epilepsy as a mental disorder. These issues, as well as the hypothesis that epilepsy, anxiety- and mood'}\n"
     ]
    },
    {
     "ename": "KeyError",
     "evalue": "'text'",
     "output_type": "error",
     "traceback": [
      "\u001b[0;31m---------------------------------------------------------------------------\u001b[0m",
      "\u001b[0;31mKeyError\u001b[0m                                  Traceback (most recent call last)",
      "\u001b[0;32m<ipython-input-17-e3fbbaf8b6fd>\u001b[0m in \u001b[0;36m<cell line: 1>\u001b[0;34m()\u001b[0m\n\u001b[0;32m----> 1\u001b[0;31m response = query_chatbot(\n\u001b[0m\u001b[1;32m      2\u001b[0m     \u001b[0mquery\u001b[0m\u001b[0;34m=\u001b[0m\u001b[0;34m\"What are the symptoms of epilepsy?\"\u001b[0m\u001b[0;34m,\u001b[0m\u001b[0;34m\u001b[0m\u001b[0;34m\u001b[0m\u001b[0m\n\u001b[1;32m      3\u001b[0m     \u001b[0mmodel\u001b[0m\u001b[0;34m=\u001b[0m\u001b[0mmodel\u001b[0m\u001b[0;34m,\u001b[0m\u001b[0;34m\u001b[0m\u001b[0;34m\u001b[0m\u001b[0m\n\u001b[1;32m      4\u001b[0m     \u001b[0mtokenizer\u001b[0m\u001b[0;34m=\u001b[0m\u001b[0mtokenizer\u001b[0m\u001b[0;34m,\u001b[0m\u001b[0;34m\u001b[0m\u001b[0;34m\u001b[0m\u001b[0m\n\u001b[1;32m      5\u001b[0m     \u001b[0mindex\u001b[0m\u001b[0;34m=\u001b[0m\u001b[0mindex\u001b[0m\u001b[0;34m,\u001b[0m\u001b[0;34m\u001b[0m\u001b[0;34m\u001b[0m\u001b[0m\n",
      "\u001b[0;32m<ipython-input-16-2f181068f176>\u001b[0m in \u001b[0;36mquery_chatbot\u001b[0;34m(query, model, tokenizer, index, device)\u001b[0m\n\u001b[1;32m     23\u001b[0m     \u001b[0;32mfor\u001b[0m \u001b[0mmatch\u001b[0m \u001b[0;32min\u001b[0m \u001b[0mresults\u001b[0m\u001b[0;34m[\u001b[0m\u001b[0;34m\"matches\"\u001b[0m\u001b[0;34m]\u001b[0m\u001b[0;34m:\u001b[0m\u001b[0;34m\u001b[0m\u001b[0;34m\u001b[0m\u001b[0m\n\u001b[1;32m     24\u001b[0m         \u001b[0;31m# Replace 'text' with the correct key from your metadata\u001b[0m\u001b[0;34m\u001b[0m\u001b[0;34m\u001b[0m\u001b[0m\n\u001b[0;32m---> 25\u001b[0;31m         \u001b[0mprompt\u001b[0m \u001b[0;34m+=\u001b[0m \u001b[0;34mf\"Document: {match['metadata']['text']}\\n\\n\"\u001b[0m  \u001b[0;31m# Modify based on the inspection result\u001b[0m\u001b[0;34m\u001b[0m\u001b[0;34m\u001b[0m\u001b[0m\n\u001b[0m\u001b[1;32m     26\u001b[0m     \u001b[0mprompt\u001b[0m \u001b[0;34m+=\u001b[0m \u001b[0;34mf\"Question: {query}\\nAnswer:\"\u001b[0m\u001b[0;34m\u001b[0m\u001b[0;34m\u001b[0m\u001b[0m\n\u001b[1;32m     27\u001b[0m \u001b[0;34m\u001b[0m\u001b[0m\n",
      "\u001b[0;31mKeyError\u001b[0m: 'text'"
     ]
    }
   ],
   "source": [
    "response = query_chatbot(\n",
    "    query=\"What are the symptoms of epilepsy?\",\n",
    "    model=model,\n",
    "    tokenizer=tokenizer,\n",
    "    index=index,\n",
    "    device=device\n",
    ")\n",
    "print(response)\n"
   ]
  }
 ],
 "metadata": {
  "colab": {
   "provenance": []
  },
  "kernelspec": {
   "display_name": "Python 3",
   "name": "python3"
  },
  "language_info": {
   "name": "python"
  }
 },
 "nbformat": 4,
 "nbformat_minor": 0
}
