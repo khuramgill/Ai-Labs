{
  "nbformat": 4,
  "nbformat_minor": 0,
  "metadata": {
    "colab": {
      "provenance": [],
      "authorship_tag": "ABX9TyPJqglLO5sCdA4Km3Z/HRXn",
      "include_colab_link": true
    },
    "kernelspec": {
      "name": "python3",
      "display_name": "Python 3"
    },
    "language_info": {
      "name": "python"
    }
  },
  "cells": [
    {
      "cell_type": "markdown",
      "metadata": {
        "id": "view-in-github",
        "colab_type": "text"
      },
      "source": [
        "<a href=\"https://colab.research.google.com/github/khuramgill/Ai-Labs/blob/main/Ai_Lab_2.ipynb\" target=\"_parent\"><img src=\"https://colab.research.google.com/assets/colab-badge.svg\" alt=\"Open In Colab\"/></a>"
      ]
    },
    {
      "cell_type": "markdown",
      "source": [
        "# **Task 01**"
      ],
      "metadata": {
        "id": "MPq8Zfr6RmU9"
      }
    },
    {
      "cell_type": "markdown",
      "source": [
        "**Fibonacci Series:**"
      ],
      "metadata": {
        "id": "jrLcuMeGRpRD"
      }
    },
    {
      "cell_type": "code",
      "source": [
        "def fibonacci_iterative(n):\n",
        "    fib_sequence = [0, 1]\n",
        "    for i in range(2, n):\n",
        "        next_value = fib_sequence[i-1] + fib_sequence[i-2]\n",
        "        fib_sequence.append(next_value)\n",
        "    return fib_sequence\n",
        "\n",
        "# Example\n",
        "print(fibonacci_iterative(6))\n"
      ],
      "metadata": {
        "id": "Tjq8Fzq2RyMT"
      },
      "execution_count": null,
      "outputs": []
    },
    {
      "cell_type": "markdown",
      "source": [
        "**Recursive Approach**"
      ],
      "metadata": {
        "id": "6-vR239MR2r7"
      }
    },
    {
      "cell_type": "code",
      "source": [
        "def fibonacci_recursive(n):\n",
        "    if n <= 1:\n",
        "        return n\n",
        "    return fibonacci_recursive(n-1) + fibonacci_recursive(n-2)\n",
        "\n",
        "# Example to print first n Fibonacci numbers\n",
        "n = 6\n",
        "fib_sequence = [fibonacci_recursive(i) for i in range(n)]\n",
        "print(fib_sequence)"
      ],
      "metadata": {
        "id": "oEaztJR5R4tS"
      },
      "execution_count": null,
      "outputs": []
    },
    {
      "cell_type": "markdown",
      "source": [
        "**Memoization (Dynamic Programming)**"
      ],
      "metadata": {
        "id": "-8tL7A2gR-ZD"
      }
    },
    {
      "cell_type": "code",
      "source": [
        "def fibonacci_memoization(n, memo={}):\n",
        "    if n in memo:\n",
        "        return memo[n]\n",
        "    if n <= 1:\n",
        "        return n\n",
        "    memo[n] = fibonacci_memoization(n-1, memo) + fibonacci_memoization(n-2, memo)\n",
        "    return memo[n]\n",
        "\n",
        "# Example to print first n Fibonacci numbers\n",
        "n = 6\n",
        "fib_sequence = [fibonacci_memoization(i) for i in range(n)]\n",
        "print(fib_sequence)"
      ],
      "metadata": {
        "id": "b10UiL_QSACL"
      },
      "execution_count": null,
      "outputs": []
    },
    {
      "cell_type": "markdown",
      "source": [
        "**Tabulation (Dynamic Programming) Approach**"
      ],
      "metadata": {
        "id": "vh_dju2dSCLq"
      }
    },
    {
      "cell_type": "code",
      "source": [
        "def fibonacci_tabulation(n):\n",
        "    # Create an array to store the Fibonacci numbers up to n\n",
        "    fib_table = [0] * (n + 1)\n",
        "\n",
        "    # Base cases\n",
        "    fib_table[0] = 0\n",
        "    if n > 0:\n",
        "        fib_table[1] = 1\n",
        "\n",
        "    # Fill the table from index 2 to n\n",
        "    for i in range(2, n + 1):\n",
        "        fib_table[i] = fib_table[i - 1] + fib_table[i - 2]\n",
        "\n",
        "    return fib_table[n]\n",
        "\n",
        "# Example to print the nth Fibonacci number\n",
        "n = 6\n",
        "print(f\"The {n}th Fibonacci number is: {fibonacci_tabulation(n)}\")\n",
        "\n",
        "# To print the entire sequence up to n\n",
        "fib_sequence = [fibonacci_tabulation(i) for i in range(n)]\n",
        "print(f\"Fibonacci sequence up to {n}th number: {fib_sequence}\")\n"
      ],
      "metadata": {
        "id": "HiX80qLISGRR"
      },
      "execution_count": null,
      "outputs": []
    },
    {
      "cell_type": "markdown",
      "source": [
        "# **Task 02**"
      ],
      "metadata": {
        "id": "_mdK4gplSHED"
      }
    },
    {
      "cell_type": "markdown",
      "source": [
        "**Double-click (or enter) to edit**"
      ],
      "metadata": {
        "id": "QDYiyYmKSLyD"
      }
    },
    {
      "cell_type": "code",
      "source": [
        "def find_lcs_recursive(s1, s2, i, j, count):\n",
        "    # Base case: If any string is exhausted, return the current count\n",
        "    if i == len(s1) or j == len(s2):\n",
        "        return count\n",
        "\n",
        "    # Initialize the current count to be zero or continue counting\n",
        "    if s1[i] == s2[j]:\n",
        "        count = find_lcs_recursive(s1, s2, i + 1, j + 1, count + 1)\n",
        "\n",
        "    # Recursively call without matching, exploring other possibilities\n",
        "    return max(count,\n",
        "               find_lcs_recursive(s1, s2, i + 1, j, 0),\n",
        "               find_lcs_recursive(s1, s2, i, j + 1, 0))\n",
        "\n",
        "def longest_common_substring_recursive(s1, s2):\n",
        "    return find_lcs_recursive(s1, s2, 0, 0, 0)\n",
        "\n",
        "# Example usage:\n",
        "s1 = \"abcde\"\n",
        "s2 = \"abfde\"\n",
        "print(longest_common_substring_recursive(s1, s2))  # Output: 2"
      ],
      "metadata": {
        "id": "3-LVVtljSJ5a"
      },
      "execution_count": null,
      "outputs": []
    }
  ]
}